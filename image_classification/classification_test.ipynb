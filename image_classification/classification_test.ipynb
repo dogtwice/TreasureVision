{
 "cells": [
  {
   "cell_type": "code",
   "execution_count": null,
   "id": "d4286595",
   "metadata": {},
   "outputs": [],
   "source": [
    "classification_names={\n",
    "    0: '上身衣服',  # 数字 0 对应“上身衣服”\n",
    "    1: '鞋',       # 数字 1 对应“鞋”\n",
    "    2: '包',       # 数字 2 对应“包”\n",
    "    3: '下身衣服',  # 数字 3 对应“下身衣服”\n",
    "    4: '手表'      # 数字 4 对应“手表”\n",
    "}"
   ]
  },
  {
   "cell_type": "code",
   "execution_count": null,
   "id": "849dbe07",
   "metadata": {},
   "outputs": [],
   "source": [
    "import torch\n",
    "from PIL import Image\n",
    "import os\n",
    "from torch.utils.data import Dataset\n",
    "import torchvision.transforms as T\n",
    "import pandas as pd\n",
    "import re\n",
    "def sorted_alphanumeric(data):\n",
    "    \"\"\"按字母数字混合顺序对文件名进行排序（例如：img1, img2, ..., img10）\"\"\"\n",
    "    # 定义转换函数：将数字部分转换为整数，非数字部分转换为小写\n",
    "    convert = lambda text: int(text) if text.isdigit() else text.lower()\n",
    "    # 生成排序键：用正则分割字符串，分别处理数字和非数字部分\n",
    "    alphanum_key = lambda key: [convert(c) for c in re.split('([0-9]+)', key)]\n",
    "    # 按生成的键排序\n",
    "    return sorted(data, key=alphanum_key)\n",
    "\n"
   ]
  }
 ],
 "metadata": {
  "kernelspec": {
   "display_name": "Treasure",
   "language": "python",
   "name": "python3"
  },
  "language_info": {
   "name": "python",
   "version": "3.11.7"
  }
 },
 "nbformat": 4,
 "nbformat_minor": 5
}
